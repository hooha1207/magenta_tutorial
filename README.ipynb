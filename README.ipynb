{
 "cells": [
  {
   "cell_type": "markdown",
   "metadata": {},
   "source": [
    "before :\n",
    "magenta 환경 만들기  \n",
    "\n",
    "\n",
    "cmd로 python 3.6.x 버전의 가상환경 만들기\n",
    "pip install magenta 로 magenta 설치"
   ]
  },
  {
   "cell_type": "markdown",
   "metadata": {},
   "source": [
    "[sample command]\n",
    "\n",
    "python music_vae_generate.py \\ --config=cat-drums_2bar_small.hikl \\ --checkpoint_file=C:/Users/USER/magenta/checkpoints/cat-drums_2bar_small.hikl.tar \\ --mode=sample \\ --num_outputs=5 \\ --output_dir=C:/Users/USER/magenta/output\n",
    "\n",
    "python music_vae_generate.py \\ --config=cat-drums_2bar_small.lokl \\ --checkpoint_file=C:/Users/USER/magenta/checkpoints/cat-drums_2bar_small.lokl.tar \\ --mode=sample \\ --num_outputs=5 \\ --output_dir=C:/Users/USER/magenta/output\n",
    "\n",
    "python music_vae_generate.py \\ --config=cat-mel_2bar_big \\ --checkpoint_file=C:/Users/USER/magenta/checkpoints/cat-mel_2bar_big.tar \\ --mode=sample \\ --num_outputs=5 \\ --output_dir=C:/Users/USER/magenta/output\n",
    "\n",
    "python music_vae_generate.py \\ --config=groovae_2bar_add_closed_hh \\ --checkpoint_file=C:/Users/USER/magenta/checkpoints/groovae_2bar_add_closed_hh.tar \\ --mode=sample \\ --num_outputs=5 \\ --output_dir=C:/Users/USER/magenta/output\n",
    "\n",
    "python music_vae_generate.py \\ --config=groovae_2bar_hits_control \\ --checkpoint_file=C:/Users/USER/magenta/checkpoints/groovae_2bar_hits_control.tar \\ --mode=sample \\ --num_outputs=5 \\ --output_dir=C:/Users/USER/magenta/output\n",
    "\n",
    "python music_vae_generate.py \\ --config=groovae_2bar_humanize \\ --checkpoint_file=C:/Users/USER/magenta/checkpoints/groovae_2bar_humanize.tar \\ --mode=sample \\ --num_outputs=5 \\ --output_dir=C:/Users/USER/magenta/output\n",
    "\n",
    "python music_vae_generate.py \\ --config=groovae_2bar_tap_fixed_velocity \\ --checkpoint_file=C:/Users/USER/magenta/checkpoints/groovae_2bar_tap_fixed_velocity.tar \\ --mode=sample \\ --num_outputs=5 \\ --output_dir=C:/Users/USER/magenta/output\n",
    "\n",
    "python music_vae_generate.py \\ --config=groovae_4bar \\ --checkpoint_file=C:/Users/USER/magenta/checkpoints/groovae_4bar.tar \\ --mode=sample \\ --num_outputs=5 \\ --output_dir=C:/Users/USER/magenta/output\n",
    "\n",
    "python music_vae_generate.py \\ --config=hierdec-mel_16bar \\ --checkpoint_file=C:/Users/USER/magenta/checkpoints/hierdec-mel_16bar.tar \\ --mode=sample \\ --num_outputs=5 \\ --output_dir=C:/Users/USER/magenta/output\n",
    "\n",
    "python music_vae_generate.py \\ --config=hierdec-trio_16bar \\ --checkpoint_file=C:/Users/USER/magenta/checkpoints/hierdec-trio_16bar.tar \\ --mode=sample \\ --num_outputs=5 \\ --output_dir=C:/Users/USER/magenta/output\n",
    "\n",
    "python music_vae_generate.py \\ --config=nade-drums_2bar_full \\ --checkpoint_file=C:/Users/USER/magenta/checkpoints/nade-drums_2bar_full.tar \\ --mode=sample \\ --num_outputs=5 \\ --output_dir=C:/Users/USER/magenta/output\n",
    "\n",
    "\n",
    "\n",
    "[ interpolation command]\n",
    "\n",
    "python music_vae_generate.py \\ --config=cat-mel_2bar_big \\ --checkpoint_file=/path/to/music_vae/checkpoints/cat-mel_2bar.ckpt \\ --mode=interpolate \\ --num_outputs=5 \\ --input_midi_1=C:/Users/USER/magenta/input/interpolation1.mid --input_midi_2=C:/Users/USER/magenta/input/interpolation2.mid --output_dir=C:/Users/USER/magenta/output\n",
    "\n",
    "\n",
    "!  \n",
    "해당 코드는 git clone을 했다는 전제 하에 쓸 수 있는 코드입니다  \n",
    "만약 git clone을 하지 않았다면  \n",
    "\n",
    "python music_vae_generate.py  \n",
    "-> music_vae_generate  \n",
    "\n",
    "이렇게 바꿔서 사용하세요\n",
    "\n"
   ]
  },
  {
   "cell_type": "markdown",
   "metadata": {},
   "source": [
    "4bar sample 코드:  \n",
    "\n",
    "python music_vae_generate.py \\ --config=groovae_4bar \\ --checkpoint_file=C:/Users/USER/magenta/checkpoints/groovae_4bar.tar \\ --mode=sample \\ --num_outputs=5 \\ --output_dir=C:/Users/USER/magenta/output"
   ]
  },
  {
   "cell_type": "markdown",
   "metadata": {},
   "source": [
    "위 코드는 pretrained 된 모델을 가지고 4마디 드럼 트랙을 만들어주는 코드다"
   ]
  },
  {
   "cell_type": "code",
   "execution_count": 2,
   "metadata": {},
   "outputs": [
    {
     "name": "stderr",
     "output_type": "stream",
     "text": [
      "python: can't open file 'music_vae_generate': [Errno 2] No such file or directory\n"
     ]
    }
   ],
   "source": [
    "!music_vae_generate.py \\ --config=groovae_4bar \\ --checkpoint_file=C:/magenta/checkpoints/groovae_4bar.tar \\ --mode=sample \\ --num_outputs=5 \\ --output_dir=C:/magenta/output"
   ]
  },
  {
   "cell_type": "markdown",
   "metadata": {},
   "source": [
    "after:  \n",
    "midi 파일 확인하기  \n",
    "\n",
    "\n",
    "online sequenser 홈페이지 접속  \n",
    "import MIDI 버튼 클릭  \n",
    "모델이 만든 midi file 선택  \n",
    "continue 버튼 클릭\n",
    "MIDI에 기록된 멜로디를 어떤 가상 악기로 연주할 건지 정하기"
   ]
  },
  {
   "cell_type": "markdown",
   "metadata": {},
   "source": [
    "![online sequencer](20220707_035419.png)"
   ]
  }
 ],
 "metadata": {
  "kernelspec": {
   "display_name": "Python 3.6.13 ('magenta')",
   "language": "python",
   "name": "python3"
  },
  "language_info": {
   "codemirror_mode": {
    "name": "ipython",
    "version": 3
   },
   "file_extension": ".py",
   "mimetype": "text/x-python",
   "name": "python",
   "nbconvert_exporter": "python",
   "pygments_lexer": "ipython3",
   "version": "3.6.13"
  },
  "orig_nbformat": 4,
  "vscode": {
   "interpreter": {
    "hash": "380b5116e40bdb6c02b7a94dc70b89a93096da3c66af3ba7ae3783f50cfa3f98"
   }
  }
 },
 "nbformat": 4,
 "nbformat_minor": 2
}
