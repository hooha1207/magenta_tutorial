{
  "nbformat": 4,
  "nbformat_minor": 0,
  "metadata": {
    "colab": {
      "name": "magenta_musicvae_tutorial.ipynb",
      "provenance": [],
      "collapsed_sections": [],
      "mount_file_id": "1OUCh-rKytSUqM5gUs9Cgl3oiBcNBUUBT",
      "authorship_tag": "ABX9TyNfYKNfxpFAg5oXFbP4BRNE",
      "include_colab_link": true
    },
    "kernelspec": {
      "name": "python3",
      "display_name": "Python 3"
    },
    "language_info": {
      "name": "python"
    }
  },
  "cells": [
    {
      "cell_type": "markdown",
      "metadata": {
        "id": "view-in-github",
        "colab_type": "text"
      },
      "source": [
        "<a href=\"https://colab.research.google.com/github/hooha1207/magenta_tutorial/blob/main/magenta_musicvae_tutorial.ipynb\" target=\"_parent\"><img src=\"https://colab.research.google.com/assets/colab-badge.svg\" alt=\"Open In Colab\"/></a>"
      ]
    },
    {
      "cell_type": "markdown",
      "source": [
        "<table align=\"left\">\n",
        "  <td>\n",
        "    <a target=\"_blank\" href=\"https://colab.research.google.com/github/hooha1207/magenta_tutorial.git\"><img src\"https://www.tensorflow.org/images/colab_logo_32px.png\" />Colab</a>\n",
        "  </td>\n",
        "</table>"
      ],
      "metadata": {
        "id": "RwBsoJUN99vb"
      }
    },
    {
      "cell_type": "code",
      "source": [
        ""
      ],
      "metadata": {
        "id": "FvoIOa2KB0w5"
      },
      "execution_count": null,
      "outputs": []
    }
  ]
}